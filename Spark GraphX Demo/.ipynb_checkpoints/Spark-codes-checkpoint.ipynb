{
 "cells": [
  {
   "cell_type": "code",
   "execution_count": 2,
   "metadata": {},
   "outputs": [],
   "source": [
    "import pyspark\n",
    "import os"
   ]
  },
  {
   "cell_type": "code",
   "execution_count": 11,
   "metadata": {},
   "outputs": [],
   "source": [
    "# Use graphframes and create new spark context\n",
    "SUBMIT_ARGS = \"--packages graphframes:graphframes:0.7.0-spark2.4-s_2.11 pyspark-shell\"\n",
    "os.environ[\"PYSPARK_SUBMIT_ARGS\"] = SUBMIT_ARGS"
   ]
  },
  {
   "cell_type": "code",
   "execution_count": 12,
   "metadata": {},
   "outputs": [],
   "source": [
    "conf = pyspark.SparkConf()\n",
    "sc = pyspark.SparkContext.getOrCreate(conf=conf)"
   ]
  },
  {
   "cell_type": "code",
   "execution_count": 18,
   "metadata": {},
   "outputs": [
    {
     "name": "stdout",
     "output_type": "stream",
     "text": [
      "[('spark.submit.pyFiles', '/Users/xushusen/.ivy2/jars/graphframes_graphframes-0.7.0-spark2.4-s_2.11.jar,/Users/xushusen/.ivy2/jars/org.slf4j_slf4j-api-1.7.16.jar'), ('spark.executor.id', 'driver'), ('spark.app.name', 'pyspark-shell'), ('spark.driver.port', '64102'), ('spark.jars', 'file:///Users/xushusen/.ivy2/jars/graphframes_graphframes-0.7.0-spark2.4-s_2.11.jar,file:///Users/xushusen/.ivy2/jars/org.slf4j_slf4j-api-1.7.16.jar'), ('spark.driver.host', 'dyn-160-39-47-18.dyn.columbia.edu'), ('spark.rdd.compress', 'True'), ('spark.serializer.objectStreamReset', '100'), ('spark.repl.local.jars', 'file:///Users/xushusen/.ivy2/jars/graphframes_graphframes-0.7.0-spark2.4-s_2.11.jar,file:///Users/xushusen/.ivy2/jars/org.slf4j_slf4j-api-1.7.16.jar'), ('spark.master', 'local[*]'), ('spark.submit.deployMode', 'client'), ('spark.files', 'file:///Users/xushusen/.ivy2/jars/graphframes_graphframes-0.7.0-spark2.4-s_2.11.jar,file:///Users/xushusen/.ivy2/jars/org.slf4j_slf4j-api-1.7.16.jar'), ('spark.app.id', 'local-1612940352420'), ('spark.ui.showConsoleProgress', 'true')]\n"
     ]
    }
   ],
   "source": [
    "print(sc._conf.getAll())\n",
    "import sys\n",
    "pyfiles = str(sc.getConf().get(u'spark.submit.pyFiles')).split(',')\n",
    "sys.path.extend(pyfiles)\n",
    "from graphframes import *"
   ]
  },
  {
   "cell_type": "code",
   "execution_count": null,
   "metadata": {},
   "outputs": [],
   "source": []
  },
  {
   "cell_type": "code",
   "execution_count": 22,
   "metadata": {},
   "outputs": [],
   "source": [
    "# create Sqlcontext to load in data into Spark dataframes\n",
    "sql = pyspark.SQLContext(sc)\n",
    "trip_df  = sql.read.option(\"header\", \"true\").csv('trip.csv')\n",
    "station_df = sql.read.option(\"header\", \"true\").csv('station.csv')"
   ]
  },
  {
   "cell_type": "code",
   "execution_count": 24,
   "metadata": {},
   "outputs": [
    {
     "name": "stdout",
     "output_type": "stream",
     "text": [
      "+----+--------+---------------+--------------------+----------------+---------------+--------------------+--------------+-------+-----------------+--------+\n",
      "|  id|duration|     start_date|  start_station_name|start_station_id|       end_date|    end_station_name|end_station_id|bike_id|subscription_type|zip_code|\n",
      "+----+--------+---------------+--------------------+----------------+---------------+--------------------+--------------+-------+-----------------+--------+\n",
      "|4576|      63|8/29/2013 14:13|South Van Ness at...|              66|8/29/2013 14:14|South Van Ness at...|            66|    520|       Subscriber|   94127|\n",
      "|4607|      70|8/29/2013 14:42|  San Jose City Hall|              10|8/29/2013 14:43|  San Jose City Hall|            10|    661|       Subscriber|   95138|\n",
      "|4130|      71|8/29/2013 10:16|Mountain View Cit...|              27|8/29/2013 10:17|Mountain View Cit...|            27|     48|       Subscriber|   97214|\n",
      "|4251|      77|8/29/2013 11:29|  San Jose City Hall|              10|8/29/2013 11:30|  San Jose City Hall|            10|     26|       Subscriber|   95060|\n",
      "|4299|      83|8/29/2013 12:02|South Van Ness at...|              66|8/29/2013 12:04|      Market at 10th|            67|    319|       Subscriber|   94103|\n",
      "|4927|     103|8/29/2013 18:54| Golden Gate at Polk|              59|8/29/2013 18:56| Golden Gate at Polk|            59|    527|       Subscriber|   94109|\n",
      "|4500|     109|8/29/2013 13:25|Santa Clara at Al...|               4|8/29/2013 13:27|    Adobe on Almaden|             5|    679|       Subscriber|   95112|\n",
      "|4563|     111|8/29/2013 14:02| San Salvador at 1st|               8|8/29/2013 14:04| San Salvador at 1st|             8|    687|       Subscriber|   95112|\n",
      "|4760|     113|8/29/2013 17:01|South Van Ness at...|              66|8/29/2013 17:03|South Van Ness at...|            66|    553|       Subscriber|   94103|\n",
      "|4258|     114|8/29/2013 11:33|  San Jose City Hall|              10|8/29/2013 11:35|         MLK Library|            11|    107|       Subscriber|   95060|\n",
      "|4549|     125|8/29/2013 13:52|     Spear at Folsom|              49|8/29/2013 13:55|Embarcadero at Br...|            54|    368|       Subscriber|   94109|\n",
      "|4498|     126|8/29/2013 13:23|    San Pedro Square|               6|8/29/2013 13:25|Santa Clara at Al...|             4|     26|       Subscriber|   95112|\n",
      "|4965|     129|8/29/2013 19:32|Mountain View Cal...|              28|8/29/2013 19:35|Mountain View Cal...|            28|    140|       Subscriber|   94041|\n",
      "|4557|     130|8/29/2013 13:57|   2nd at South Park|              64|8/29/2013 13:59|   2nd at South Park|            64|    371|       Subscriber|   94122|\n",
      "|4386|     134|8/29/2013 12:31|     Clay at Battery|              41|8/29/2013 12:33|     Beale at Market|            56|    503|       Subscriber|   94109|\n",
      "|4749|     138|8/29/2013 16:57|     Post at Kearney|              47|8/29/2013 16:59|     Post at Kearney|            47|    408|       Subscriber|   94117|\n",
      "|4242|     141|8/29/2013 11:25|  San Jose City Hall|              10|8/29/2013 11:27|  San Jose City Hall|            10|     26|       Subscriber|   95060|\n",
      "|4329|     142|8/29/2013 12:11|      Market at 10th|              67|8/29/2013 12:14|      Market at 10th|            67|    319|       Subscriber|   94103|\n",
      "|5097|     142|8/29/2013 22:21|   Steuart at Market|              74|8/29/2013 22:24|Harry Bridges Pla...|            50|    564|       Subscriber|   94115|\n",
      "|5084|     144|8/29/2013 22:06|  Powell Street BART|              39|8/29/2013 22:08|       Market at 4th|            76|    574|       Subscriber|   94115|\n",
      "+----+--------+---------------+--------------------+----------------+---------------+--------------------+--------------+-------+-----------------+--------+\n",
      "only showing top 20 rows\n",
      "\n"
     ]
    }
   ],
   "source": [
    "trip_df.show()"
   ]
  },
  {
   "cell_type": "code",
   "execution_count": 25,
   "metadata": {},
   "outputs": [
    {
     "data": {
      "text/html": [
       "<div>\n",
       "<style scoped>\n",
       "    .dataframe tbody tr th:only-of-type {\n",
       "        vertical-align: middle;\n",
       "    }\n",
       "\n",
       "    .dataframe tbody tr th {\n",
       "        vertical-align: top;\n",
       "    }\n",
       "\n",
       "    .dataframe thead th {\n",
       "        text-align: right;\n",
       "    }\n",
       "</style>\n",
       "<table border=\"1\" class=\"dataframe\">\n",
       "  <thead>\n",
       "    <tr style=\"text-align: right;\">\n",
       "      <th></th>\n",
       "      <th>id</th>\n",
       "      <th>duration</th>\n",
       "      <th>start_date</th>\n",
       "      <th>start_station_name</th>\n",
       "      <th>start_station_id</th>\n",
       "      <th>end_date</th>\n",
       "      <th>end_station_name</th>\n",
       "      <th>end_station_id</th>\n",
       "      <th>bike_id</th>\n",
       "      <th>subscription_type</th>\n",
       "      <th>zip_code</th>\n",
       "    </tr>\n",
       "  </thead>\n",
       "  <tbody>\n",
       "    <tr>\n",
       "      <th>0</th>\n",
       "      <td>4576</td>\n",
       "      <td>63</td>\n",
       "      <td>8/29/2013 14:13</td>\n",
       "      <td>South Van Ness at Market</td>\n",
       "      <td>66</td>\n",
       "      <td>8/29/2013 14:14</td>\n",
       "      <td>South Van Ness at Market</td>\n",
       "      <td>66</td>\n",
       "      <td>520</td>\n",
       "      <td>Subscriber</td>\n",
       "      <td>94127</td>\n",
       "    </tr>\n",
       "    <tr>\n",
       "      <th>1</th>\n",
       "      <td>4607</td>\n",
       "      <td>70</td>\n",
       "      <td>8/29/2013 14:42</td>\n",
       "      <td>San Jose City Hall</td>\n",
       "      <td>10</td>\n",
       "      <td>8/29/2013 14:43</td>\n",
       "      <td>San Jose City Hall</td>\n",
       "      <td>10</td>\n",
       "      <td>661</td>\n",
       "      <td>Subscriber</td>\n",
       "      <td>95138</td>\n",
       "    </tr>\n",
       "    <tr>\n",
       "      <th>2</th>\n",
       "      <td>4130</td>\n",
       "      <td>71</td>\n",
       "      <td>8/29/2013 10:16</td>\n",
       "      <td>Mountain View City Hall</td>\n",
       "      <td>27</td>\n",
       "      <td>8/29/2013 10:17</td>\n",
       "      <td>Mountain View City Hall</td>\n",
       "      <td>27</td>\n",
       "      <td>48</td>\n",
       "      <td>Subscriber</td>\n",
       "      <td>97214</td>\n",
       "    </tr>\n",
       "    <tr>\n",
       "      <th>3</th>\n",
       "      <td>4251</td>\n",
       "      <td>77</td>\n",
       "      <td>8/29/2013 11:29</td>\n",
       "      <td>San Jose City Hall</td>\n",
       "      <td>10</td>\n",
       "      <td>8/29/2013 11:30</td>\n",
       "      <td>San Jose City Hall</td>\n",
       "      <td>10</td>\n",
       "      <td>26</td>\n",
       "      <td>Subscriber</td>\n",
       "      <td>95060</td>\n",
       "    </tr>\n",
       "    <tr>\n",
       "      <th>4</th>\n",
       "      <td>4299</td>\n",
       "      <td>83</td>\n",
       "      <td>8/29/2013 12:02</td>\n",
       "      <td>South Van Ness at Market</td>\n",
       "      <td>66</td>\n",
       "      <td>8/29/2013 12:04</td>\n",
       "      <td>Market at 10th</td>\n",
       "      <td>67</td>\n",
       "      <td>319</td>\n",
       "      <td>Subscriber</td>\n",
       "      <td>94103</td>\n",
       "    </tr>\n",
       "    <tr>\n",
       "      <th>5</th>\n",
       "      <td>4927</td>\n",
       "      <td>103</td>\n",
       "      <td>8/29/2013 18:54</td>\n",
       "      <td>Golden Gate at Polk</td>\n",
       "      <td>59</td>\n",
       "      <td>8/29/2013 18:56</td>\n",
       "      <td>Golden Gate at Polk</td>\n",
       "      <td>59</td>\n",
       "      <td>527</td>\n",
       "      <td>Subscriber</td>\n",
       "      <td>94109</td>\n",
       "    </tr>\n",
       "    <tr>\n",
       "      <th>6</th>\n",
       "      <td>4500</td>\n",
       "      <td>109</td>\n",
       "      <td>8/29/2013 13:25</td>\n",
       "      <td>Santa Clara at Almaden</td>\n",
       "      <td>4</td>\n",
       "      <td>8/29/2013 13:27</td>\n",
       "      <td>Adobe on Almaden</td>\n",
       "      <td>5</td>\n",
       "      <td>679</td>\n",
       "      <td>Subscriber</td>\n",
       "      <td>95112</td>\n",
       "    </tr>\n",
       "    <tr>\n",
       "      <th>7</th>\n",
       "      <td>4563</td>\n",
       "      <td>111</td>\n",
       "      <td>8/29/2013 14:02</td>\n",
       "      <td>San Salvador at 1st</td>\n",
       "      <td>8</td>\n",
       "      <td>8/29/2013 14:04</td>\n",
       "      <td>San Salvador at 1st</td>\n",
       "      <td>8</td>\n",
       "      <td>687</td>\n",
       "      <td>Subscriber</td>\n",
       "      <td>95112</td>\n",
       "    </tr>\n",
       "    <tr>\n",
       "      <th>8</th>\n",
       "      <td>4760</td>\n",
       "      <td>113</td>\n",
       "      <td>8/29/2013 17:01</td>\n",
       "      <td>South Van Ness at Market</td>\n",
       "      <td>66</td>\n",
       "      <td>8/29/2013 17:03</td>\n",
       "      <td>South Van Ness at Market</td>\n",
       "      <td>66</td>\n",
       "      <td>553</td>\n",
       "      <td>Subscriber</td>\n",
       "      <td>94103</td>\n",
       "    </tr>\n",
       "    <tr>\n",
       "      <th>9</th>\n",
       "      <td>4258</td>\n",
       "      <td>114</td>\n",
       "      <td>8/29/2013 11:33</td>\n",
       "      <td>San Jose City Hall</td>\n",
       "      <td>10</td>\n",
       "      <td>8/29/2013 11:35</td>\n",
       "      <td>MLK Library</td>\n",
       "      <td>11</td>\n",
       "      <td>107</td>\n",
       "      <td>Subscriber</td>\n",
       "      <td>95060</td>\n",
       "    </tr>\n",
       "  </tbody>\n",
       "</table>\n",
       "</div>"
      ],
      "text/plain": [
       "     id duration       start_date        start_station_name start_station_id  \\\n",
       "0  4576       63  8/29/2013 14:13  South Van Ness at Market               66   \n",
       "1  4607       70  8/29/2013 14:42        San Jose City Hall               10   \n",
       "2  4130       71  8/29/2013 10:16   Mountain View City Hall               27   \n",
       "3  4251       77  8/29/2013 11:29        San Jose City Hall               10   \n",
       "4  4299       83  8/29/2013 12:02  South Van Ness at Market               66   \n",
       "5  4927      103  8/29/2013 18:54       Golden Gate at Polk               59   \n",
       "6  4500      109  8/29/2013 13:25    Santa Clara at Almaden                4   \n",
       "7  4563      111  8/29/2013 14:02       San Salvador at 1st                8   \n",
       "8  4760      113  8/29/2013 17:01  South Van Ness at Market               66   \n",
       "9  4258      114  8/29/2013 11:33        San Jose City Hall               10   \n",
       "\n",
       "          end_date          end_station_name end_station_id bike_id  \\\n",
       "0  8/29/2013 14:14  South Van Ness at Market             66     520   \n",
       "1  8/29/2013 14:43        San Jose City Hall             10     661   \n",
       "2  8/29/2013 10:17   Mountain View City Hall             27      48   \n",
       "3  8/29/2013 11:30        San Jose City Hall             10      26   \n",
       "4  8/29/2013 12:04            Market at 10th             67     319   \n",
       "5  8/29/2013 18:56       Golden Gate at Polk             59     527   \n",
       "6  8/29/2013 13:27          Adobe on Almaden              5     679   \n",
       "7  8/29/2013 14:04       San Salvador at 1st              8     687   \n",
       "8  8/29/2013 17:03  South Van Ness at Market             66     553   \n",
       "9  8/29/2013 11:35               MLK Library             11     107   \n",
       "\n",
       "  subscription_type zip_code  \n",
       "0        Subscriber    94127  \n",
       "1        Subscriber    95138  \n",
       "2        Subscriber    97214  \n",
       "3        Subscriber    95060  \n",
       "4        Subscriber    94103  \n",
       "5        Subscriber    94109  \n",
       "6        Subscriber    95112  \n",
       "7        Subscriber    95112  \n",
       "8        Subscriber    94103  \n",
       "9        Subscriber    95060  "
      ]
     },
     "execution_count": 25,
     "metadata": {},
     "output_type": "execute_result"
    }
   ],
   "source": [
    "# convert 10 rows to pandas df for pretty print\n",
    "trip_df.limit(10).toPandas()"
   ]
  },
  {
   "cell_type": "code",
   "execution_count": null,
   "metadata": {},
   "outputs": [],
   "source": []
  },
  {
   "cell_type": "code",
   "execution_count": null,
   "metadata": {},
   "outputs": [],
   "source": []
  },
  {
   "cell_type": "code",
   "execution_count": null,
   "metadata": {},
   "outputs": [],
   "source": []
  },
  {
   "cell_type": "code",
   "execution_count": null,
   "metadata": {},
   "outputs": [],
   "source": []
  },
  {
   "cell_type": "code",
   "execution_count": null,
   "metadata": {},
   "outputs": [],
   "source": []
  },
  {
   "cell_type": "code",
   "execution_count": null,
   "metadata": {},
   "outputs": [],
   "source": []
  },
  {
   "cell_type": "code",
   "execution_count": null,
   "metadata": {},
   "outputs": [],
   "source": []
  },
  {
   "cell_type": "code",
   "execution_count": null,
   "metadata": {},
   "outputs": [],
   "source": []
  },
  {
   "cell_type": "code",
   "execution_count": null,
   "metadata": {},
   "outputs": [],
   "source": []
  },
  {
   "cell_type": "code",
   "execution_count": null,
   "metadata": {},
   "outputs": [],
   "source": []
  },
  {
   "cell_type": "code",
   "execution_count": null,
   "metadata": {},
   "outputs": [],
   "source": []
  },
  {
   "cell_type": "code",
   "execution_count": null,
   "metadata": {},
   "outputs": [],
   "source": []
  },
  {
   "cell_type": "code",
   "execution_count": null,
   "metadata": {},
   "outputs": [],
   "source": []
  },
  {
   "cell_type": "code",
   "execution_count": null,
   "metadata": {},
   "outputs": [],
   "source": []
  },
  {
   "cell_type": "code",
   "execution_count": null,
   "metadata": {},
   "outputs": [],
   "source": []
  },
  {
   "cell_type": "code",
   "execution_count": null,
   "metadata": {},
   "outputs": [],
   "source": []
  },
  {
   "cell_type": "code",
   "execution_count": null,
   "metadata": {},
   "outputs": [],
   "source": []
  },
  {
   "cell_type": "code",
   "execution_count": null,
   "metadata": {},
   "outputs": [],
   "source": []
  },
  {
   "cell_type": "code",
   "execution_count": null,
   "metadata": {},
   "outputs": [],
   "source": []
  },
  {
   "cell_type": "code",
   "execution_count": null,
   "metadata": {},
   "outputs": [],
   "source": []
  },
  {
   "cell_type": "code",
   "execution_count": null,
   "metadata": {},
   "outputs": [],
   "source": []
  },
  {
   "cell_type": "code",
   "execution_count": null,
   "metadata": {},
   "outputs": [],
   "source": []
  },
  {
   "cell_type": "code",
   "execution_count": null,
   "metadata": {},
   "outputs": [],
   "source": []
  },
  {
   "cell_type": "code",
   "execution_count": null,
   "metadata": {},
   "outputs": [],
   "source": []
  },
  {
   "cell_type": "code",
   "execution_count": null,
   "metadata": {},
   "outputs": [],
   "source": []
  }
 ],
 "metadata": {
  "kernelspec": {
   "display_name": "Python 3",
   "language": "python",
   "name": "python3"
  },
  "language_info": {
   "codemirror_mode": {
    "name": "ipython",
    "version": 3
   },
   "file_extension": ".py",
   "mimetype": "text/x-python",
   "name": "python",
   "nbconvert_exporter": "python",
   "pygments_lexer": "ipython3",
   "version": "3.7.6"
  }
 },
 "nbformat": 4,
 "nbformat_minor": 4
}
